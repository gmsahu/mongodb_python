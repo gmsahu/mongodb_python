{
 "cells": [
  {
   "cell_type": "markdown",
   "id": "5b51cc8f-e2db-4c80-8b6d-4a05d6373292",
   "metadata": {},
   "source": [
    "## Applications using mongodb,create database,insert,update,query and aggregate functions"
   ]
  },
  {
   "cell_type": "code",
   "execution_count": 18,
   "id": "73d8b701-0233-458e-9b05-6f11b833a174",
   "metadata": {},
   "outputs": [],
   "source": [
    "import pymongo"
   ]
  },
  {
   "cell_type": "code",
   "execution_count": 25,
   "id": "02979dc2-d084-4a93-bef5-5cb9d0924338",
   "metadata": {},
   "outputs": [],
   "source": [
    "import pymongo\n",
    "from pymongo import MongoClient\n",
    "from bson.objectid import ObjectId\n",
    "\n",
    "# Connect to MongoDB server\n",
    "client = MongoClient('localhost', 27017)\n",
    "\n",
    "# Create or switch to the database\n",
    "db = client.myNewDatabase\n",
    "\n",
    "# Create or switch to the collection\n",
    "collection = db.myCollection"
   ]
  },
  {
   "cell_type": "code",
   "execution_count": null,
   "id": "f69a8513-2cdc-4737-bf7f-0fe52d29732b",
   "metadata": {},
   "outputs": [],
   "source": [
    "\n",
    "\n",
    "# Create: Insert a document\n",
    "\n",
    "document_id = collection.insertOne({\n",
    "    \"name\": \"Alice\",\n",
    "    \"age\": 25,\n",
    "    \"city\": \"New York\"\n",
    "})\n",
    "#document_id=collection.insertOne(record)\n",
    "print(f\"Inserted document ID: {document_id}\")\n",
    "\n",
    "# Read: Find a document\n",
    "document = collection.find_one({\"name\": \"Alice\"})\n",
    "print(f\"Found document: {document}\")\n",
    "\n",
    "# Read: Find all documents\n",
    "all_documents = collection.find()\n",
    "print(\"All documents:\")\n",
    "for doc in all_documents:\n",
    "    print(doc)\n",
    "\n",
    "# Update: Update a document\n",
    "update_result = collection.update_one(\n",
    "    {\"name\": \"Alice\"},\n",
    "    {\"$set\": {\"age\": 26}}\n",
    ")\n",
    "print(f\"Matched {update_result.matched_count} documents and modified {update_result.modified_count} documents.\")\n",
    "\n",
    "# Delete: Delete a document\n",
    "delete_result = collection.delete_one({\"name\": \"Alice\"})\n",
    "print(f\"Deleted {delete_result.deleted_count} document(s).\")\n",
    "\n",
    "# Check server status\n",
    "server_status = client.admin.command(\"serverStatus\")\n",
    "print(\"Server status:\")\n",
    "print(server_status)"
   ]
  },
  {
   "cell_type": "code",
   "execution_count": 33,
   "id": "e926c7eb-68e1-4eda-9e27-9955d1872f29",
   "metadata": {},
   "outputs": [
    {
     "name": "stdout",
     "output_type": "stream",
     "text": [
      "Database(MongoClient(host=['localhost:27017'], document_class=dict, tz_aware=False, connect=True), 'myNewDatabase')\n"
     ]
    }
   ],
   "source": [
    "print(db)"
   ]
  },
  {
   "cell_type": "code",
   "execution_count": 34,
   "id": "4628d64e-ea23-45f8-90fd-879a42906ee3",
   "metadata": {},
   "outputs": [
    {
     "name": "stdout",
     "output_type": "stream",
     "text": [
      "Collection(Database(MongoClient(host=['localhost:27017'], document_class=dict, tz_aware=False, connect=True), 'myNewDatabase'), 'myCollection')\n"
     ]
    }
   ],
   "source": [
    "print(collection)"
   ]
  },
  {
   "cell_type": "code",
   "execution_count": 35,
   "id": "a421e0ee-2cb8-4fb0-aa46-c2cf6e38ee42",
   "metadata": {},
   "outputs": [
    {
     "name": "stdout",
     "output_type": "stream",
     "text": [
      "<pymongo.cursor.Cursor object at 0x10717e9d0>\n"
     ]
    }
   ],
   "source": [
    "print(db.Collection.find())"
   ]
  },
  {
   "cell_type": "code",
   "execution_count": 36,
   "id": "ca51202d-8e1f-4572-9196-51a846a4539d",
   "metadata": {},
   "outputs": [],
   "source": [
    "#create a new database employee\n",
    "db = client.Employee"
   ]
  },
  {
   "cell_type": "code",
   "execution_count": 39,
   "id": "d7e4acc3-089b-462e-8ab3-48ee93a6fee3",
   "metadata": {},
   "outputs": [],
   "source": [
    "employeeinfo=db.employeeinformation"
   ]
  },
  {
   "cell_type": "code",
   "execution_count": 40,
   "id": "6577c51e-676f-4e90-91b3-bc282814e595",
   "metadata": {},
   "outputs": [
    {
     "data": {
      "text/plain": [
       "InsertOneResult(ObjectId('6685917bca931d78fdff33b9'), acknowledged=True)"
      ]
     },
     "execution_count": 40,
     "metadata": {},
     "output_type": "execute_result"
    }
   ],
   "source": [
    "#insert one record\n",
    "record={\n",
    "    \"empid\":11,\n",
    "    \"name\":\"gayatri\",\n",
    "    \"salary\":2000,\n",
    "    \"department\":\"analytics\"\n",
    "}\n",
    "employeeinfo.insert_one(record)"
   ]
  },
  {
   "cell_type": "code",
   "execution_count": 47,
   "id": "2419178f-34d8-49d1-aeb9-3668dda9579a",
   "metadata": {},
   "outputs": [
    {
     "data": {
      "text/plain": [
       "InsertManyResult([ObjectId('668593e4ca931d78fdff33bc'), ObjectId('668593e4ca931d78fdff33bd'), ObjectId('668593e4ca931d78fdff33be')], acknowledged=True)"
      ]
     },
     "execution_count": 47,
     "metadata": {},
     "output_type": "execute_result"
    }
   ],
   "source": [
    "#insert many records\n",
    "records=[\n",
    "{\n",
    "    \"empid\":13,\n",
    "    \"name\":\"Avni\",\n",
    "    \"salary\":2000,\n",
    "    \"department\":\"math\"\n",
    "},\n",
    "{\n",
    "    \"empid\":15,\n",
    "    \"name\":\"Srihaan\",\n",
    "    \"salary\":2000,\n",
    "    \"department\":\"chaplusi\"\n",
    "},\n",
    "{\n",
    "    \"empid\":17,\n",
    "    \"name\":\"funny\",\n",
    "    \"salary\":2000,\n",
    "    \"department\":\"dumb\"\n",
    "}\n",
    "]\n",
    "employeeinfo.insert_many(records)"
   ]
  },
  {
   "cell_type": "code",
   "execution_count": 86,
   "id": "f42ae24c-600c-4c45-8c92-19dde438e5d0",
   "metadata": {},
   "outputs": [
    {
     "data": {
      "text/plain": [
       "InsertManyResult([ObjectId('6685e830ca931d78fdff33c4'), ObjectId('6685e830ca931d78fdff33c5'), ObjectId('6685e830ca931d78fdff33c6')], acknowledged=True)"
      ]
     },
     "execution_count": 86,
     "metadata": {},
     "output_type": "execute_result"
    }
   ],
   "source": [
    "records=[\n",
    "{\n",
    "    \"empid\":12,\n",
    "    \"name\":\"Avni\",\n",
    "    \"salary\":2000,\n",
    "    \"department\":\"reading\",\n",
    "    \"score\":80\n",
    "},\n",
    "{\n",
    "    \"empid\":15,\n",
    "    \"name\":\"Srihaan\",\n",
    "    \"salary\":3000,\n",
    "    \"department\":\"math\",\n",
    "    \"score\":70\n",
    "},\n",
    "{\n",
    "    \"empid\":17,\n",
    "    \"name\":\"funny\",\n",
    "    \"salary\":2500,\n",
    "    \"department\":\"math\",\n",
    "    \"score\":100\n",
    "}\n",
    "]\n",
    "employeeinfo.insert_many(records)"
   ]
  },
  {
   "cell_type": "code",
   "execution_count": 87,
   "id": "78764ea2-22e2-412d-8800-ba50dce22b2d",
   "metadata": {},
   "outputs": [
    {
     "name": "stdout",
     "output_type": "stream",
     "text": [
      "records of employee:[{'empid': 12, 'name': 'Avni', 'salary': 2000, 'department': 'reading', 'score': 80, '_id': ObjectId('6685e830ca931d78fdff33c4')}, {'empid': 15, 'name': 'Srihaan', 'salary': 3000, 'department': 'math', 'score': 70, '_id': ObjectId('6685e830ca931d78fdff33c5')}, {'empid': 17, 'name': 'funny', 'salary': 2500, 'department': 'math', 'score': 100, '_id': ObjectId('6685e830ca931d78fdff33c6')}]\n"
     ]
    }
   ],
   "source": [
    "#display all the records\n",
    "print(f\"records of employee:{records}\")"
   ]
  },
  {
   "cell_type": "code",
   "execution_count": 88,
   "id": "f5a2356f-9f82-4687-abe8-6bad7b7094b6",
   "metadata": {},
   "outputs": [
    {
     "data": {
      "text/plain": [
       "{'_id': ObjectId('6685917bca931d78fdff33b9'),\n",
       " 'empid': 11,\n",
       " 'name': 'gayatri',\n",
       " 'salary': 2000,\n",
       " 'department': 'analytics'}"
      ]
     },
     "execution_count": 88,
     "metadata": {},
     "output_type": "execute_result"
    }
   ],
   "source": [
    "employeeinfo.find_one()\n",
    "#retrive one record"
   ]
  },
  {
   "cell_type": "code",
   "execution_count": 89,
   "id": "a69e3fec-65fd-4482-ad38-1a470295fee6",
   "metadata": {},
   "outputs": [
    {
     "name": "stdout",
     "output_type": "stream",
     "text": [
      "{'_id': ObjectId('6685917bca931d78fdff33b9'), 'empid': 11, 'name': 'gayatri', 'salary': 2000, 'department': 'analytics'}\n",
      "{'_id': ObjectId('668591edca931d78fdff33ba'), 'empid': 12, 'name': 'sripati', 'salary': 5000, 'department': 'statistics'}\n",
      "{'_id': ObjectId('668593e4ca931d78fdff33bc'), 'empid': 13, 'name': 'Avni', 'salary': 2000, 'department': 'math'}\n",
      "{'_id': ObjectId('668593e4ca931d78fdff33bd'), 'empid': 15, 'name': 'Srihaan', 'salary': 2000, 'department': 'chaplusi'}\n",
      "{'_id': ObjectId('668593e4ca931d78fdff33be'), 'empid': 17, 'name': 'funny', 'salary': 2000, 'department': 'dumb'}\n",
      "{'_id': ObjectId('6685e830ca931d78fdff33c4'), 'empid': 12, 'name': 'Avni', 'salary': 2000, 'department': 'reading', 'score': 80}\n",
      "{'_id': ObjectId('6685e830ca931d78fdff33c5'), 'empid': 15, 'name': 'Srihaan', 'salary': 3000, 'department': 'math', 'score': 70}\n",
      "{'_id': ObjectId('6685e830ca931d78fdff33c6'), 'empid': 17, 'name': 'funny', 'salary': 2500, 'department': 'math', 'score': 100}\n"
     ]
    }
   ],
   "source": [
    "# select * from employeeinfo equivalent to\n",
    "for record in employeeinfo.find({}):\n",
    "    print(record)"
   ]
  },
  {
   "cell_type": "code",
   "execution_count": 90,
   "id": "79c1d8cf-ba50-4748-96de-f8bff51bbe03",
   "metadata": {},
   "outputs": [
    {
     "name": "stdout",
     "output_type": "stream",
     "text": [
      "{'_id': ObjectId('6685917bca931d78fdff33b9'), 'empid': 11, 'name': 'gayatri', 'salary': 2000, 'department': 'analytics'}\n"
     ]
    }
   ],
   "source": [
    "#query the info according to its equality condition\n",
    "#selet * from employeeifo where first nmae=gayatri\n",
    "for record in employeeinfo.find({\"name\":\"gayatri\"}):\n",
    "    print(record)"
   ]
  },
  {
   "cell_type": "code",
   "execution_count": 91,
   "id": "561e22e2-6856-4d0d-b175-9ac2c78b2680",
   "metadata": {},
   "outputs": [
    {
     "name": "stdout",
     "output_type": "stream",
     "text": [
      "{'_id': ObjectId('6685917bca931d78fdff33b9'), 'empid': 11, 'name': 'gayatri', 'salary': 2000, 'department': 'analytics'}\n",
      "{'_id': ObjectId('668593e4ca931d78fdff33bc'), 'empid': 13, 'name': 'Avni', 'salary': 2000, 'department': 'math'}\n",
      "{'_id': ObjectId('6685e830ca931d78fdff33c5'), 'empid': 15, 'name': 'Srihaan', 'salary': 3000, 'department': 'math', 'score': 70}\n",
      "{'_id': ObjectId('6685e830ca931d78fdff33c6'), 'empid': 17, 'name': 'funny', 'salary': 2500, 'department': 'math', 'score': 100}\n"
     ]
    }
   ],
   "source": [
    "#query document using operator($gt,$lt,$in)\n",
    "for record in employeeinfo.find({\"department\":{\"$in\":[\"analytics\",\"math\"]}}):\n",
    "    print(record)"
   ]
  },
  {
   "cell_type": "code",
   "execution_count": 92,
   "id": "2f5540ea-f8d1-4ab8-bced-11a7979eed45",
   "metadata": {},
   "outputs": [
    {
     "name": "stdout",
     "output_type": "stream",
     "text": [
      "{'_id': ObjectId('6685917bca931d78fdff33b9'), 'empid': 11, 'name': 'gayatri', 'salary': 2000, 'department': 'analytics'}\n",
      "{'_id': ObjectId('668593e4ca931d78fdff33bc'), 'empid': 13, 'name': 'Avni', 'salary': 2000, 'department': 'math'}\n",
      "{'_id': ObjectId('668593e4ca931d78fdff33bd'), 'empid': 15, 'name': 'Srihaan', 'salary': 2000, 'department': 'chaplusi'}\n",
      "{'_id': ObjectId('668593e4ca931d78fdff33be'), 'empid': 17, 'name': 'funny', 'salary': 2000, 'department': 'dumb'}\n",
      "{'_id': ObjectId('6685e830ca931d78fdff33c4'), 'empid': 12, 'name': 'Avni', 'salary': 2000, 'department': 'reading', 'score': 80}\n",
      "{'_id': ObjectId('6685e830ca931d78fdff33c6'), 'empid': 17, 'name': 'funny', 'salary': 2500, 'department': 'math', 'score': 100}\n"
     ]
    }
   ],
   "source": [
    "#and and query operator\n",
    "for record in employeeinfo.find({\"salary\":{\"$lt\":3000}}):\n",
    "    print(record)"
   ]
  },
  {
   "cell_type": "code",
   "execution_count": 93,
   "id": "53941a79-e4f7-485e-b615-9eff38652f18",
   "metadata": {},
   "outputs": [
    {
     "name": "stdout",
     "output_type": "stream",
     "text": [
      "{'_id': ObjectId('6685917bca931d78fdff33b9'), 'empid': 11, 'name': 'gayatri', 'salary': 2000, 'department': 'analytics'}\n",
      "{'_id': ObjectId('668593e4ca931d78fdff33bc'), 'empid': 13, 'name': 'Avni', 'salary': 2000, 'department': 'math'}\n",
      "{'_id': ObjectId('668593e4ca931d78fdff33bd'), 'empid': 15, 'name': 'Srihaan', 'salary': 2000, 'department': 'chaplusi'}\n",
      "{'_id': ObjectId('668593e4ca931d78fdff33be'), 'empid': 17, 'name': 'funny', 'salary': 2000, 'department': 'dumb'}\n",
      "{'_id': ObjectId('6685e830ca931d78fdff33c4'), 'empid': 12, 'name': 'Avni', 'salary': 2000, 'department': 'reading', 'score': 80}\n",
      "{'_id': ObjectId('6685e830ca931d78fdff33c6'), 'empid': 17, 'name': 'funny', 'salary': 2500, 'department': 'math', 'score': 100}\n"
     ]
    }
   ],
   "source": [
    "#or operator with query\n",
    "for record in employeeinfo.find({\"$or\":[{\"name\":\"Avni\"},{\"salary\":{\"$lt\":3000}}]}):\n",
    "    print(record)\n"
   ]
  },
  {
   "cell_type": "code",
   "execution_count": 94,
   "id": "86851280-94a7-47c6-a820-7d8f697334da",
   "metadata": {},
   "outputs": [
    {
     "name": "stdout",
     "output_type": "stream",
     "text": [
      "{'_id': ObjectId('668593e4ca931d78fdff33bc'), 'empid': 13, 'name': 'Avni', 'salary': 2000, 'department': 'math'}\n",
      "{'_id': ObjectId('6685e830ca931d78fdff33c6'), 'empid': 17, 'name': 'funny', 'salary': 2500, 'department': 'math', 'score': 100}\n"
     ]
    }
   ],
   "source": [
    "#and operator with query\n",
    "for record in employeeinfo.find({\"$and\":[{\"department\":\"math\"},{\"salary\":{\"$lt\":3000}}]}):\n",
    "    print(record)\n"
   ]
  },
  {
   "cell_type": "code",
   "execution_count": null,
   "id": "8e3cac5f-c592-4aa9-863d-5b25c12efae1",
   "metadata": {},
   "outputs": [],
   "source": [
    "#use aggregate function t find sum,average,groupby\n"
   ]
  },
  {
   "cell_type": "code",
   "execution_count": 95,
   "id": "763548e3-07d4-49af-b2aa-f6193e65a030",
   "metadata": {},
   "outputs": [],
   "source": [
    "### Find Amit And Krish Total Subjects\n",
    "agg_result= employeeinfo.aggregate( \n",
    "    [{ \n",
    "    \"$group\" :  \n",
    "        {\"_id\" : \"$name\",  \n",
    "         \"Total Subject\" : {\"$sum\" : 1} \n",
    "         }} \n",
    "    ]) \n"
   ]
  },
  {
   "cell_type": "code",
   "execution_count": 96,
   "id": "e15c60d0-a57d-4951-b00f-11f4aea431db",
   "metadata": {},
   "outputs": [
    {
     "name": "stdout",
     "output_type": "stream",
     "text": [
      "{'_id': 'funny', 'Total Subject': 2}\n",
      "{'_id': 'gayatri', 'Total Subject': 1}\n",
      "{'_id': 'Avni', 'Total Subject': 2}\n",
      "{'_id': 'Srihaan', 'Total Subject': 2}\n",
      "{'_id': 'sripati', 'Total Subject': 1}\n"
     ]
    }
   ],
   "source": [
    "for i in agg_result: \n",
    "    print(i)"
   ]
  },
  {
   "cell_type": "code",
   "execution_count": 101,
   "id": "7dc35a95-3793-4689-81d2-60e0e0041abd",
   "metadata": {},
   "outputs": [
    {
     "name": "stdout",
     "output_type": "stream",
     "text": [
      "{'_id': 'funny', 'Total salary': 4500}\n",
      "{'_id': 'gayatri', 'Total salary': 2000}\n",
      "{'_id': 'Avni', 'Total salary': 4000}\n",
      "{'_id': 'Srihaan', 'Total salary': 5000}\n",
      "{'_id': 'sripati', 'Total salary': 5000}\n"
     ]
    }
   ],
   "source": [
    "### Calculating the total score based on user\n",
    "agg_result= employeeinfo.aggregate( \n",
    "    [{ \n",
    "    \"$group\" :  \n",
    "        {\"_id\" : \"$name\",  \n",
    "         \"Total salary\" : {\"$sum\" :\"$salary\"} \n",
    "         }} \n",
    "    ]) \n",
    "for i in agg_result: \n",
    "    print(i)"
   ]
  },
  {
   "cell_type": "code",
   "execution_count": 103,
   "id": "f12224f6-2965-4846-8e63-39170accbb79",
   "metadata": {},
   "outputs": [
    {
     "name": "stdout",
     "output_type": "stream",
     "text": [
      "{'_id': 'funny', 'EmployeeScoreAverage': 2250.0}\n",
      "{'_id': 'gayatri', 'EmployeeScoreAverage': 2000.0}\n",
      "{'_id': 'Avni', 'EmployeeScoreAverage': 2000.0}\n",
      "{'_id': 'Srihaan', 'EmployeeScoreAverage': 2500.0}\n",
      "{'_id': 'sripati', 'EmployeeScoreAverage': 5000.0}\n"
     ]
    }
   ],
   "source": [
    "### Calculating the average salary based on user\n",
    "agg_result=employeeinfo.aggregate([\n",
    "   {\n",
    "      \"$group\": {\n",
    "         \"_id\": '$name',\n",
    "         \"EmployeeScoreAverage\": {\n",
    "            \"$avg\": \"$salary\"\n",
    "         }\n",
    "      }\n",
    "   }\n",
    "])\n",
    "for i in agg_result: \n",
    "    print(i)"
   ]
  },
  {
   "cell_type": "code",
   "execution_count": 68,
   "id": "f1ad177f-c497-4030-b0a5-8584426895b6",
   "metadata": {},
   "outputs": [],
   "source": [
    "#nested jason format\n",
    "inventory=mydb.inventory\n",
    "inventory.insert_many( [\n",
    "   { 'item': \"journal\", 'qty': 25, 'size': { 'h': 14, 'w': 21,'uom': \"cm\" }, 'status': \"A\" },\n",
    "   { 'item': \"notebook\", 'qty': 50,'size': { 'h': 8.5, 'w': 11,'uom': \"in\" },'status': \"A\" },\n",
    "   { 'item': \"paper\", 'qty': 100, 'size': { 'h': 8.5, 'w': 11,'uom': \"in\" },'status': \"D\" },\n",
    "   { 'item': \"planner\", 'qty': 75, 'size': { 'h': 22.85,'w': 30,'uom': \"cm\" },'status': \"D\" },\n",
    "   { 'item': \"postcard\", 'qty': 45, 'size': { 'h': 10, 'w': 15.25,'uom': \"cm\" },'status': \"A\" }\n",
    "]);"
   ]
  },
  {
   "cell_type": "code",
   "execution_count": 69,
   "id": "6d05c084-2f43-441c-b6c4-137a6ed3bc95",
   "metadata": {},
   "outputs": [
    {
     "name": "stdout",
     "output_type": "stream",
     "text": [
      "{'_id': ObjectId('66859d43ca931d78fdff33bf'), 'item': 'journal', 'qty': 25, 'size': {'h': 14, 'w': 21, 'uom': 'cm'}, 'status': 'A'}\n"
     ]
    }
   ],
   "source": [
    "for records in inventory.find({'size': { 'h': 14, 'w': 21,'uom': \"cm\" }}):\n",
    "    print(records)"
   ]
  },
  {
   "cell_type": "code",
   "execution_count": 77,
   "id": "302195e7-85b2-4469-8b8c-85d34d7069e4",
   "metadata": {},
   "outputs": [
    {
     "data": {
      "text/plain": [
       "UpdateResult({'n': 1, 'nModified': 1, 'ok': 1.0, 'updatedExisting': True}, acknowledged=True)"
      ]
     },
     "execution_count": 77,
     "metadata": {},
     "output_type": "execute_result"
    }
   ],
   "source": [
    "#update item=pastcard ,change the size value,status and added the lastmodified time\n",
    "inventory.update_one({'item':'postcard'},\n",
    "                    {'$set':{'size.uom':'m','status':'X'},\n",
    "                    '$currentDate':{'lastModified':True}})"
   ]
  },
  {
   "cell_type": "code",
   "execution_count": 79,
   "id": "a13fb620-7067-4fce-80b9-2952e3b7a4e3",
   "metadata": {},
   "outputs": [
    {
     "data": {
      "text/plain": [
       "UpdateResult({'n': 4, 'nModified': 4, 'ok': 1.0, 'updatedExisting': True}, acknowledged=True)"
      ]
     },
     "execution_count": 79,
     "metadata": {},
     "output_type": "execute_result"
    }
   ],
   "source": [
    "#update_many,change the record so that it chnaged number of record\n",
    "inventory.update_many(\n",
    "    {'qty':{'$lt':80}},\n",
    "    {'$set':{'size.w':22,'status':'Z'},\n",
    "    '$currentDate':{'lastModified':True}}\n",
    ")"
   ]
  },
  {
   "cell_type": "code",
   "execution_count": 83,
   "id": "0310dc73-0e50-46fc-a154-0120048c7b8c",
   "metadata": {},
   "outputs": [
    {
     "data": {
      "text/plain": [
       "UpdateResult({'n': 1, 'nModified': 1, 'ok': 1.0, 'updatedExisting': True}, acknowledged=True)"
      ]
     },
     "execution_count": 83,
     "metadata": {},
     "output_type": "execute_result"
    }
   ],
   "source": [
    "#use replace_one to change some item and replace with the specifed change\n",
    "inventory.replace_one(\n",
    "    {'item':'planner'},\n",
    "    {'item':'planner',\n",
    "     'instock':[\n",
    "        {'warehouse':'A','quality':'good'},\n",
    "        {'warehouse':'B','quality':'exceptional'}\n",
    "    ]}\n",
    ")"
   ]
  },
  {
   "cell_type": "code",
   "execution_count": 85,
   "id": "fcae6abc-d322-44b2-8bef-4962a0d54ee1",
   "metadata": {},
   "outputs": [
    {
     "name": "stdout",
     "output_type": "stream",
     "text": [
      "{'_id': ObjectId('66859d43ca931d78fdff33bf'), 'item': 'journal', 'qty': 25, 'size': {'h': 14, 'w': 22, 'uom': 'cm'}, 'status': 'Z', 'lastModified': datetime.datetime(2024, 7, 3, 23, 27, 54, 635000)}\n",
      "{'_id': ObjectId('66859d43ca931d78fdff33c0'), 'item': 'notebook', 'qty': 50, 'size': {'h': 8.5, 'w': 22, 'uom': 'in'}, 'status': 'Z', 'lastModified': datetime.datetime(2024, 7, 3, 23, 27, 54, 643000)}\n",
      "{'_id': ObjectId('66859d43ca931d78fdff33c1'), 'item': 'paper', 'qty': 100, 'size': {'h': 8.5, 'w': 11, 'uom': 'in'}, 'status': 'D'}\n",
      "{'_id': ObjectId('66859d43ca931d78fdff33c2'), 'item': 'planner', 'instock': [{'warehouse': 'A', 'quality': 'good'}, {'warehouse': 'B', 'quality': 'exceptional'}]}\n",
      "{'_id': ObjectId('66859d43ca931d78fdff33c3'), 'item': 'postcard', 'qty': 45, 'size': {'h': 10, 'w': 22, 'uom': 'm'}, 'status': 'Z', 'lastModified': datetime.datetime(2024, 7, 3, 23, 27, 54, 643000)}\n"
     ]
    }
   ],
   "source": [
    "#show all the records of inventory\n",
    "for record  in inventory.find({}):\n",
    "    print(record)"
   ]
  },
  {
   "cell_type": "code",
   "execution_count": 104,
   "id": "bb762010-7aa7-4bce-8367-064fa99607fa",
   "metadata": {},
   "outputs": [],
   "source": [
    "import datetime as datetime\n"
   ]
  },
  {
   "cell_type": "code",
   "execution_count": 105,
   "id": "741cf2f4-b4fb-4219-870e-f6df07c8466a",
   "metadata": {},
   "outputs": [],
   "source": [
    "### Create a new collection\n",
    "data=[{ \"_id\" : 1, \"item\" : \"abc\", \"price\" : 10, \"quantity\" : 2, \"date\" : datetime.datetime.utcnow()},\n",
    "{ \"_id\" : 2, \"item\" : \"jkl\", \"price\" : 20, \"quantity\" : 1, \"date\" : datetime.datetime.utcnow() },\n",
    "{ \"_id\" : 3, \"item\" : \"xyz\", \"price\" : 5, \"quantity\" : 5, \"date\" : datetime.datetime.utcnow() },\n",
    "{ \"_id\" : 4, \"item\" : \"abc\", \"price\" : 10, \"quantity\" : 10, \"date\" : datetime.datetime.utcnow() },\n",
    "{ \"_id\" : 5, \"item\" : \"xyz\", \"price\" : 5, \"quantity\" : 10, \"date\" :datetime.datetime.utcnow() }]"
   ]
  },
  {
   "cell_type": "code",
   "execution_count": 106,
   "id": "db9a7c3b-7e72-4397-96b3-eeb91df29574",
   "metadata": {},
   "outputs": [
    {
     "data": {
      "text/plain": [
       "[{'_id': 1,\n",
       "  'item': 'abc',\n",
       "  'price': 10,\n",
       "  'quantity': 2,\n",
       "  'date': datetime.datetime(2024, 7, 4, 0, 24, 45, 135436)},\n",
       " {'_id': 2,\n",
       "  'item': 'jkl',\n",
       "  'price': 20,\n",
       "  'quantity': 1,\n",
       "  'date': datetime.datetime(2024, 7, 4, 0, 24, 45, 135440)},\n",
       " {'_id': 3,\n",
       "  'item': 'xyz',\n",
       "  'price': 5,\n",
       "  'quantity': 5,\n",
       "  'date': datetime.datetime(2024, 7, 4, 0, 24, 45, 135441)},\n",
       " {'_id': 4,\n",
       "  'item': 'abc',\n",
       "  'price': 10,\n",
       "  'quantity': 10,\n",
       "  'date': datetime.datetime(2024, 7, 4, 0, 24, 45, 135441)},\n",
       " {'_id': 5,\n",
       "  'item': 'xyz',\n",
       "  'price': 5,\n",
       "  'quantity': 10,\n",
       "  'date': datetime.datetime(2024, 7, 4, 0, 24, 45, 135442)}]"
      ]
     },
     "execution_count": 106,
     "metadata": {},
     "output_type": "execute_result"
    }
   ],
   "source": [
    "data"
   ]
  },
  {
   "cell_type": "code",
   "execution_count": 108,
   "id": "25fb65cc-9ed2-434e-a1eb-993b6fb68e0e",
   "metadata": {},
   "outputs": [
    {
     "data": {
      "text/plain": [
       "InsertManyResult([1, 2, 3, 4, 5], acknowledged=True)"
      ]
     },
     "execution_count": 108,
     "metadata": {},
     "output_type": "execute_result"
    }
   ],
   "source": [
    "mycollection=mydb['stores']  \n",
    "mycollection.insert_many(data)"
   ]
  },
  {
   "cell_type": "code",
   "execution_count": 109,
   "id": "a6b07114-769b-4b62-9be9-66e3f911416f",
   "metadata": {},
   "outputs": [
    {
     "name": "stdout",
     "output_type": "stream",
     "text": [
      "{'_id': 'xyz', 'avgAmount': 37.5, 'avgQuantity': 7.5}\n",
      "{'_id': 'abc', 'avgAmount': 60.0, 'avgQuantity': 6.0}\n",
      "{'_id': 'jkl', 'avgAmount': 20.0, 'avgQuantity': 1.0}\n"
     ]
    }
   ],
   "source": [
    "### Calculating the average quantity And Average Price\n",
    "#total price=quantityxprice,then find average\n",
    "agg_result=mycollection.aggregate([\n",
    "   {\n",
    "      \"$group\": {\n",
    "         \"_id\": '$item',\n",
    "         \"avgAmount\": {\"$avg\": {\"$multiply\": [ \"$price\", \"$quantity\" ]}},\n",
    "          \"avgQuantity\": { \"$avg\": \"$quantity\" }\n",
    "      }\n",
    "   }\n",
    "])\n",
    "for i in agg_result: \n",
    "    print(i)"
   ]
  },
  {
   "cell_type": "code",
   "execution_count": 110,
   "id": "81543df4-a03f-42cd-bd03-8469344d96dc",
   "metadata": {},
   "outputs": [],
   "source": [
    "#### $Project\n",
    "\n",
    "data=[{\n",
    "  \"_id\" : 1,\n",
    "  \"title\": \"abc123\",\n",
    "  \"isbn\": \"0001122223334\",\n",
    "  \"author\": { \"last\": \"zzz\", \"first\": \"aaa\" },\n",
    "  \"copies\": 7\n",
    "},\n",
    "{\n",
    "  \"_id\" : 2,\n",
    "  \"title\": \"Baked Goods\",\n",
    "  \"isbn\": \"9999999999999\",\n",
    "  \"author\": { \"last\": \"xyz\", \"first\": \"abc\", \"middle\": \"\" },\n",
    "  \"copies\": 3\n",
    "}\n",
    "]"
   ]
  },
  {
   "cell_type": "code",
   "execution_count": 111,
   "id": "390a7212-6cb7-467f-97f4-85270af7ba08",
   "metadata": {},
   "outputs": [
    {
     "data": {
      "text/plain": [
       "[{'_id': 1,\n",
       "  'title': 'abc123',\n",
       "  'isbn': '0001122223334',\n",
       "  'author': {'last': 'zzz', 'first': 'aaa'},\n",
       "  'copies': 7},\n",
       " {'_id': 2,\n",
       "  'title': 'Baked Goods',\n",
       "  'isbn': '9999999999999',\n",
       "  'author': {'last': 'xyz', 'first': 'abc', 'middle': ''},\n",
       "  'copies': 3}]"
      ]
     },
     "execution_count": 111,
     "metadata": {},
     "output_type": "execute_result"
    }
   ],
   "source": [
    "data"
   ]
  },
  {
   "cell_type": "code",
   "execution_count": 112,
   "id": "cfd38060-d836-44d4-be1f-1355da28a19b",
   "metadata": {},
   "outputs": [],
   "source": [
    "# Access collection of the database  \n",
    "collection=mydb['Books']  \n"
   ]
  },
  {
   "cell_type": "code",
   "execution_count": 113,
   "id": "5aae1feb-34a9-40c8-a9a4-2ac92b917c1c",
   "metadata": {},
   "outputs": [
    {
     "data": {
      "text/plain": [
       "InsertManyResult([1, 2], acknowledged=True)"
      ]
     },
     "execution_count": 113,
     "metadata": {},
     "output_type": "execute_result"
    }
   ],
   "source": [
    "collection.insert_many(data)\n"
   ]
  },
  {
   "cell_type": "code",
   "execution_count": 114,
   "id": "518b9263-6416-4aee-8b3a-a8e90647c56d",
   "metadata": {},
   "outputs": [
    {
     "name": "stdout",
     "output_type": "stream",
     "text": [
      "{'_id': 1, 'title': 'abc123', 'isbn': '0001122223334'}\n",
      "{'_id': 2, 'title': 'Baked Goods', 'isbn': '9999999999999'}\n"
     ]
    }
   ],
   "source": [
    "for row in collection.aggregate( [ { \"$project\": { \"title\": 1,\"isbn\":1 } } ] ):\n",
    "    print(row)\n"
   ]
  },
  {
   "cell_type": "code",
   "execution_count": null,
   "id": "933b21ad-3993-412a-8a29-cb74c23f2e61",
   "metadata": {},
   "outputs": [],
   "source": []
  }
 ],
 "metadata": {
  "kernelspec": {
   "display_name": "Python 3 (ipykernel)",
   "language": "python",
   "name": "python3"
  },
  "language_info": {
   "codemirror_mode": {
    "name": "ipython",
    "version": 3
   },
   "file_extension": ".py",
   "mimetype": "text/x-python",
   "name": "python",
   "nbconvert_exporter": "python",
   "pygments_lexer": "ipython3",
   "version": "3.11.8"
  },
  "widgets": {
   "application/vnd.jupyter.widget-state+json": {
    "state": {},
    "version_major": 2,
    "version_minor": 0
   }
  }
 },
 "nbformat": 4,
 "nbformat_minor": 5
}
